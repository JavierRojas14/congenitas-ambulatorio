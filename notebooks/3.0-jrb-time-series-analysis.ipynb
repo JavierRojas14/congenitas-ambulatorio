{
 "cells": [
  {
   "cell_type": "code",
   "execution_count": 1,
   "metadata": {},
   "outputs": [],
   "source": [
    "import sys\n",
    "import os\n",
    "\n",
    "project_root = os.path.abspath('..')\n",
    "if project_root not in sys.path:\n",
    "    sys.path.append(project_root)\n",
    "\n",
    "%load_ext autoreload\n",
    "%autoreload 2"
   ]
  },
  {
   "cell_type": "code",
   "execution_count": 2,
   "metadata": {},
   "outputs": [],
   "source": [
    "import pandas as pd\n",
    "import numpy as np\n",
    "import polars as pl\n",
    "\n",
    "import matplotlib.pyplot as plt\n",
    "import seaborn as sns\n",
    "\n",
    "import warnings\n",
    "\n",
    "from src.features import build_features\n",
    "\n",
    "warnings.filterwarnings(\"ignore\")\n",
    "sns.set_style()\n",
    "plt.rcParams[\"figure.figsize\"] = (12, 6)\n"
   ]
  },
  {
   "cell_type": "code",
   "execution_count": 3,
   "metadata": {},
   "outputs": [],
   "source": [
    "df_procesada = pd.read_csv(\"../data/interim/datos_limpios.csv\", encoding=\"latin-1\", sep=\";\")\n",
    "df_procesada[\"FECHA 1º evaluación\"] = pd.to_datetime(\n",
    "    df_procesada[\"FECHA 1º evaluación\"], format=\"%Y-%m-%d\"\n",
    ")\n"
   ]
  },
  {
   "attachments": {},
   "cell_type": "markdown",
   "metadata": {},
   "source": [
    "# Analisis de Egresos por Anio"
   ]
  },
  {
   "cell_type": "code",
   "execution_count": 4,
   "metadata": {},
   "outputs": [],
   "source": [
    "egresos_por_anio = (\n",
    "    df_procesada.groupby([\"ANIO_PRIMERA_EVALUACION\", \"MES_PRIMERA_EVALUACION\"])[\n",
    "        \"DIAGNOSTICO PRINCIPAL\", \"cie\"\n",
    "    ]\n",
    "    .value_counts()\n",
    "    .reset_index(name=\"conteo\")\n",
    ")\n",
    "\n",
    "egresos_por_anio = build_features.agregar_info_codigo_cie(egresos_por_anio, \"cie\")"
   ]
  },
  {
   "cell_type": "code",
   "execution_count": 5,
   "metadata": {},
   "outputs": [],
   "source": [
    "egresos_por_anio.to_excel(\"../data/processed/conteo_diagnostico.xlsx\", index=False)"
   ]
  },
  {
   "attachments": {},
   "cell_type": "markdown",
   "metadata": {},
   "source": [
    "# Analisis de Sexo por Anio"
   ]
  },
  {
   "cell_type": "code",
   "execution_count": 6,
   "metadata": {},
   "outputs": [
    {
     "data": {
      "text/plain": [
       "f    1834\n",
       "m    1718\n",
       "Name: SEXO, dtype: int64"
      ]
     },
     "execution_count": 6,
     "metadata": {},
     "output_type": "execute_result"
    }
   ],
   "source": [
    "df_procesada[\"SEXO\"].value_counts()"
   ]
  },
  {
   "cell_type": "code",
   "execution_count": 11,
   "metadata": {},
   "outputs": [
    {
     "data": {
      "text/html": [
       "<div>\n",
       "<style scoped>\n",
       "    .dataframe tbody tr th:only-of-type {\n",
       "        vertical-align: middle;\n",
       "    }\n",
       "\n",
       "    .dataframe tbody tr th {\n",
       "        vertical-align: top;\n",
       "    }\n",
       "\n",
       "    .dataframe thead th {\n",
       "        text-align: right;\n",
       "    }\n",
       "</style>\n",
       "<table border=\"1\" class=\"dataframe\">\n",
       "  <thead>\n",
       "    <tr style=\"text-align: right;\">\n",
       "      <th></th>\n",
       "      <th>ANIO_PRIMERA_EVALUACION</th>\n",
       "      <th>SEXO</th>\n",
       "      <th>DIAGNOSTICO PRINCIPAL</th>\n",
       "      <th>cie</th>\n",
       "      <th>conteo</th>\n",
       "    </tr>\n",
       "  </thead>\n",
       "  <tbody>\n",
       "    <tr>\n",
       "      <th>0</th>\n",
       "      <td>1900.0</td>\n",
       "      <td>f</td>\n",
       "      <td>civ</td>\n",
       "      <td>Q21.0</td>\n",
       "      <td>1</td>\n",
       "    </tr>\n",
       "    <tr>\n",
       "      <th>1</th>\n",
       "      <td>1900.0</td>\n",
       "      <td>f</td>\n",
       "      <td>cia</td>\n",
       "      <td>Q21.1</td>\n",
       "      <td>1</td>\n",
       "    </tr>\n",
       "    <tr>\n",
       "      <th>2</th>\n",
       "      <td>1905.0</td>\n",
       "      <td>f</td>\n",
       "      <td>canal av</td>\n",
       "      <td>Q21.2</td>\n",
       "      <td>1</td>\n",
       "    </tr>\n",
       "    <tr>\n",
       "      <th>3</th>\n",
       "      <td>1990.0</td>\n",
       "      <td>f</td>\n",
       "      <td>canal av</td>\n",
       "      <td>Q21.2</td>\n",
       "      <td>1</td>\n",
       "    </tr>\n",
       "    <tr>\n",
       "      <th>4</th>\n",
       "      <td>1999.0</td>\n",
       "      <td>f</td>\n",
       "      <td>atresia pulmonar</td>\n",
       "      <td>Q22.0</td>\n",
       "      <td>1</td>\n",
       "    </tr>\n",
       "    <tr>\n",
       "      <th>...</th>\n",
       "      <td>...</td>\n",
       "      <td>...</td>\n",
       "      <td>...</td>\n",
       "      <td>...</td>\n",
       "      <td>...</td>\n",
       "    </tr>\n",
       "    <tr>\n",
       "      <th>921</th>\n",
       "      <td>2023.0</td>\n",
       "      <td>m</td>\n",
       "      <td>valvula aortica bicuspide</td>\n",
       "      <td>Q23.8</td>\n",
       "      <td>1</td>\n",
       "    </tr>\n",
       "    <tr>\n",
       "      <th>922</th>\n",
       "      <td>2023.0</td>\n",
       "      <td>m</td>\n",
       "      <td>canal av</td>\n",
       "      <td>Q21.2</td>\n",
       "      <td>1</td>\n",
       "    </tr>\n",
       "    <tr>\n",
       "      <th>923</th>\n",
       "      <td>2023.0</td>\n",
       "      <td>m</td>\n",
       "      <td>cia</td>\n",
       "      <td>Q21.1</td>\n",
       "      <td>1</td>\n",
       "    </tr>\n",
       "    <tr>\n",
       "      <th>924</th>\n",
       "      <td>2023.0</td>\n",
       "      <td>m</td>\n",
       "      <td>civ</td>\n",
       "      <td>Q21.0</td>\n",
       "      <td>1</td>\n",
       "    </tr>\n",
       "    <tr>\n",
       "      <th>925</th>\n",
       "      <td>2023.0</td>\n",
       "      <td>m</td>\n",
       "      <td>coartacion aortica</td>\n",
       "      <td>Q25.1</td>\n",
       "      <td>1</td>\n",
       "    </tr>\n",
       "  </tbody>\n",
       "</table>\n",
       "<p>926 rows × 5 columns</p>\n",
       "</div>"
      ],
      "text/plain": [
       "     ANIO_PRIMERA_EVALUACION SEXO      DIAGNOSTICO PRINCIPAL    cie  conteo\n",
       "0                     1900.0    f                        civ  Q21.0       1\n",
       "1                     1900.0    f                        cia  Q21.1       1\n",
       "2                     1905.0    f                   canal av  Q21.2       1\n",
       "3                     1990.0    f                   canal av  Q21.2       1\n",
       "4                     1999.0    f           atresia pulmonar  Q22.0       1\n",
       "..                       ...  ...                        ...    ...     ...\n",
       "921                   2023.0    m  valvula aortica bicuspide  Q23.8       1\n",
       "922                   2023.0    m                   canal av  Q21.2       1\n",
       "923                   2023.0    m                        cia  Q21.1       1\n",
       "924                   2023.0    m                        civ  Q21.0       1\n",
       "925                   2023.0    m         coartacion aortica  Q25.1       1\n",
       "\n",
       "[926 rows x 5 columns]"
      ]
     },
     "execution_count": 11,
     "metadata": {},
     "output_type": "execute_result"
    }
   ],
   "source": [
    "(df_procesada.groupby([\"ANIO_PRIMERA_EVALUACION\", \"SEXO\"])[\n",
    "        \"DIAGNOSTICO PRINCIPAL\", \"cie\"\n",
    "    ]\n",
    "    .value_counts()\n",
    "    .reset_index(name=\"conteo\"))"
   ]
  },
  {
   "cell_type": "code",
   "execution_count": 7,
   "metadata": {},
   "outputs": [],
   "source": [
    "atendidos_antes_de_1900 = df_procesada[\n",
    "    df_procesada[\"FECHA 1º evaluación\"] < pd.to_datetime(\"2000-01-01\", yearfirst=True)\n",
    "]"
   ]
  },
  {
   "cell_type": "code",
   "execution_count": 8,
   "metadata": {},
   "outputs": [],
   "source": [
    "atendidos_antes_de_1900.to_csv(\"../data/interim/atendidos_antes_del_2000.xlsx\", encoding=\"latin-1\",\n",
    "                               sep=\";\")"
   ]
  },
  {
   "cell_type": "code",
   "execution_count": null,
   "metadata": {},
   "outputs": [],
   "source": []
  }
 ],
 "metadata": {
  "kernelspec": {
   "display_name": "base",
   "language": "python",
   "name": "python3"
  },
  "language_info": {
   "codemirror_mode": {
    "name": "ipython",
    "version": 3
   },
   "file_extension": ".py",
   "mimetype": "text/x-python",
   "name": "python",
   "nbconvert_exporter": "python",
   "pygments_lexer": "ipython3",
   "version": "3.10.9"
  },
  "orig_nbformat": 4
 },
 "nbformat": 4,
 "nbformat_minor": 2
}
