{
 "cells": [
  {
   "cell_type": "code",
   "execution_count": 1,
   "metadata": {},
   "outputs": [],
   "source": [
    "import sys\n",
    "import os\n",
    "\n",
    "project_root = os.path.abspath('..')\n",
    "if project_root not in sys.path:\n",
    "    sys.path.append(project_root)\n",
    "\n",
    "%load_ext autoreload\n",
    "%autoreload 2"
   ]
  },
  {
   "cell_type": "code",
   "execution_count": 2,
   "metadata": {},
   "outputs": [],
   "source": [
    "import pandas as pd\n",
    "import numpy as np\n",
    "import polars as pl\n",
    "\n",
    "import matplotlib.pyplot as plt\n",
    "import seaborn as sns\n",
    "\n",
    "import warnings\n",
    "\n",
    "from src.features import build_features\n",
    "\n",
    "warnings.filterwarnings(\"ignore\")\n",
    "sns.set_style()\n",
    "plt.rcParams[\"figure.figsize\"] = (12, 6)\n"
   ]
  },
  {
   "cell_type": "code",
   "execution_count": 3,
   "metadata": {},
   "outputs": [],
   "source": [
    "COLS_DIAGS = [\"Capítulo\", \"Sección\", \"Categoría\", \"Descripción\"]"
   ]
  },
  {
   "cell_type": "code",
   "execution_count": 4,
   "metadata": {},
   "outputs": [],
   "source": [
    "df_procesada = pd.read_csv(\"../data/interim/datos_limpios.csv\", encoding=\"latin-1\", sep=\";\")\n",
    "df_procesada[\"FECHA 1º evaluación\"] = pd.to_datetime(\n",
    "    df_procesada[\"FECHA 1º evaluación\"], format=\"%Y-%m-%d\"\n",
    ")\n",
    "df_procesada[\"F NAC\"] = pd.to_datetime(df_procesada[\"F NAC\"], yearfirst=True)\n",
    "\n",
    "edad_primera_consulta = (\n",
    "    df_procesada[\"FECHA 1º evaluación\"] - df_procesada[\"F NAC\"]\n",
    ") / np.timedelta64(1, \"Y\")\n",
    "\n",
    "df_procesada[\"EDAD_PRIMERA_CONSULTA\"] = edad_primera_consulta\n",
    "df_procesada[\"RANGO_ETARIO_PRIMERA_CONSULTA\"] = pd.cut(\n",
    "    df_procesada[\"EDAD_PRIMERA_CONSULTA\"], [0, 15, 20, 25, 40, np.inf]\n",
    ")\n"
   ]
  },
  {
   "attachments": {},
   "cell_type": "markdown",
   "metadata": {},
   "source": [
    "# Analisis para Congenitas\n",
    "\n",
    "En este analisis se quieren responder obtener los siguientes insights:\n",
    "\n",
    "- Frecuencia de diagnosticos por anio\n",
    "- Frecuencia de edad de primera consulta por anio (grupo etario)\n",
    "- Frecuencia de procedencia por anio\n",
    "- Frecuencia de sexo por anio"
   ]
  },
  {
   "cell_type": "code",
   "execution_count": 18,
   "metadata": {},
   "outputs": [],
   "source": [
    "desglose_sociodemografico = [\"ANIO_PRIMERA_EVALUACION\", \"validacion_Region\"]\n",
    "\n",
    "variables_a_analizar = [\"validacion\", \"RANGO_ETARIO_PRIMERA_CONSULTA\", \"SEXO\"]"
   ]
  },
  {
   "cell_type": "code",
   "execution_count": 21,
   "metadata": {},
   "outputs": [],
   "source": [
    "dict_resultado = {}\n",
    "for variable in variables_a_analizar:\n",
    "    nuevo_desglose = desglose_sociodemografico + [variable]\n",
    "    if variable == \"validacion\":\n",
    "        nuevo_desglose.pop()\n",
    "\n",
    "    resultado = (\n",
    "        df_procesada.groupby(nuevo_desglose)[\"validacion\"]\n",
    "        .value_counts()\n",
    "        .reset_index(name=\"conteo\")\n",
    "    )\n",
    "\n",
    "    dict_resultado[variable] = resultado\n",
    "\n"
   ]
  },
  {
   "cell_type": "code",
   "execution_count": 41,
   "metadata": {},
   "outputs": [
    {
     "data": {
      "text/plain": [
       "2861"
      ]
     },
     "metadata": {},
     "output_type": "display_data"
    },
    {
     "data": {
      "text/plain": [
       "2785"
      ]
     },
     "metadata": {},
     "output_type": "display_data"
    },
    {
     "data": {
      "text/plain": [
       "2787"
      ]
     },
     "metadata": {},
     "output_type": "display_data"
    },
    {
     "data": {
      "text/plain": [
       "2793"
      ]
     },
     "metadata": {},
     "output_type": "display_data"
    }
   ],
   "source": [
    "display(df_procesada[\"validacion\"].value_counts().sum())\n",
    "display(dict_resultado[\"RANGO_ETARIO_PRIMERA_CONSULTA\"][\"conteo\"].sum())\n",
    "display(dict_resultado[\"SEXO\"][\"conteo\"].sum())\n",
    "display(dict_resultado[\"validacion\"][\"conteo\"].sum())"
   ]
  },
  {
   "attachments": {},
   "cell_type": "markdown",
   "metadata": {},
   "source": [
    "- De los diccionarios obtenidos se puede ver que existen diferencias en las cantidades totales\n",
    "de casos. Esto se debe a valores faltantes en cada una de las variables agregadas (ANIO_PRIMERA_EVALUACION,\n",
    "Region, Rango Etario y Sexo)"
   ]
  },
  {
   "cell_type": "code",
   "execution_count": null,
   "metadata": {},
   "outputs": [],
   "source": []
  }
 ],
 "metadata": {
  "kernelspec": {
   "display_name": "base",
   "language": "python",
   "name": "python3"
  },
  "language_info": {
   "codemirror_mode": {
    "name": "ipython",
    "version": 3
   },
   "file_extension": ".py",
   "mimetype": "text/x-python",
   "name": "python",
   "nbconvert_exporter": "python",
   "pygments_lexer": "ipython3",
   "version": "3.10.9"
  },
  "orig_nbformat": 4
 },
 "nbformat": 4,
 "nbformat_minor": 2
}
