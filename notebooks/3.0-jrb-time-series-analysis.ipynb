{
 "cells": [
  {
   "cell_type": "code",
   "execution_count": 11,
   "metadata": {},
   "outputs": [
    {
     "name": "stdout",
     "output_type": "stream",
     "text": [
      "The autoreload extension is already loaded. To reload it, use:\n",
      "  %reload_ext autoreload\n"
     ]
    }
   ],
   "source": [
    "import sys\n",
    "import os\n",
    "\n",
    "project_root = os.path.abspath('..')\n",
    "if project_root not in sys.path:\n",
    "    sys.path.append(project_root)\n",
    "\n",
    "%load_ext autoreload\n",
    "%autoreload 2"
   ]
  },
  {
   "cell_type": "code",
   "execution_count": 12,
   "metadata": {},
   "outputs": [],
   "source": [
    "import pandas as pd\n",
    "import numpy as np\n",
    "import polars as pl\n",
    "\n",
    "import matplotlib.pyplot as plt\n",
    "import seaborn as sns\n",
    "\n",
    "import warnings\n",
    "\n",
    "from src.features import build_features\n",
    "\n",
    "warnings.filterwarnings(\"ignore\")\n",
    "sns.set_style()\n",
    "plt.rcParams[\"figure.figsize\"] = (12, 6)\n"
   ]
  },
  {
   "cell_type": "code",
   "execution_count": 13,
   "metadata": {},
   "outputs": [],
   "source": [
    "COLS_DIAGS = [\"Capítulo\", \"Sección\", \"Categoría\", \"Descripción\"]"
   ]
  },
  {
   "cell_type": "code",
   "execution_count": 14,
   "metadata": {},
   "outputs": [],
   "source": [
    "df_procesada = pd.read_csv(\"../data/interim/datos_limpios.csv\", encoding=\"latin-1\", sep=\";\")\n",
    "df_procesada[\"fecha_1_evaluacion\"] = pd.to_datetime(\n",
    "    df_procesada[\"fecha_1_evaluacion\"], format=\"%Y-%m-%d\"\n",
    ")\n",
    "df_procesada[\"f_nac\"] = pd.to_datetime(df_procesada[\"f_nac\"], yearfirst=True)\n",
    "\n",
    "edad_primera_consulta = (\n",
    "    df_procesada[\"fecha_1_evaluacion\"] - df_procesada[\"f_nac\"]\n",
    ") / np.timedelta64(1, \"Y\")\n",
    "\n",
    "df_procesada[\"edad_primera_consulta\"] = edad_primera_consulta\n",
    "df_procesada[\"rango_etario_primera_consulta\"] = pd.cut(\n",
    "    df_procesada[\"edad_primera_consulta\"], [0, 15, 20, 25, 40, np.inf]\n",
    ").astype(str)\n",
    "\n",
    "df_procesada = df_procesada.fillna(\"Nulos\")\n",
    "df_procesada[\"anio_primera_evaluacion\"] = df_procesada.anio_primera_evaluacion.replace(\n",
    "    \"Nulos\", np.nan\n",
    ")"
   ]
  },
  {
   "attachments": {},
   "cell_type": "markdown",
   "metadata": {},
   "source": [
    "# Analisis para Congenitas\n",
    "\n",
    "En este analisis se quieren responder obtener los siguientes insights:\n",
    "\n",
    "- Frecuencia de diagnosticos por anio\n",
    "- Frecuencia de edad de primera consulta por anio (grupo etario)\n",
    "- Frecuencia de procedencia por anio\n",
    "- Frecuencia de sexo por anio"
   ]
  },
  {
   "cell_type": "code",
   "execution_count": 15,
   "metadata": {},
   "outputs": [],
   "source": [
    "desglose_sociodemografico = [\"anio_primera_evaluacion\", \"region\"]\n",
    "\n",
    "variables_a_analizar = [\n",
    "    \"diagnostico_principal\",\n",
    "    \"prevision\",\n",
    "    \"clasificacion\",\n",
    "    \"complejidad\",\n",
    "    \"rango_etario_primera_consulta\",\n",
    "    \"sexo\",\n",
    "]"
   ]
  },
  {
   "cell_type": "code",
   "execution_count": 16,
   "metadata": {},
   "outputs": [],
   "source": [
    "resultado_sociodemo = build_features.obtener_dfs_para_desglose_sociodemografico(\n",
    "    df_procesada, desglose_sociodemografico, variables_a_analizar\n",
    ")"
   ]
  },
  {
   "cell_type": "code",
   "execution_count": 17,
   "metadata": {},
   "outputs": [
    {
     "name": "stdout",
     "output_type": "stream",
     "text": [
      "3076\n",
      "El dataframe que analiza diagnostico_principal tiene 3027 conteos de diagnosticos\n",
      "El dataframe que analiza prevision tiene 3027 conteos de diagnosticos\n",
      "El dataframe que analiza clasificacion tiene 3027 conteos de diagnosticos\n",
      "El dataframe que analiza complejidad tiene 3027 conteos de diagnosticos\n",
      "El dataframe que analiza rango_etario_primera_consulta tiene 3027 conteos de diagnosticos\n",
      "El dataframe que analiza sexo tiene 3027 conteos de diagnosticos\n"
     ]
    }
   ],
   "source": [
    "print(df_procesada[\"diagnostico_principal\"].value_counts().sum())\n",
    "for var_a_analizar, df_a_analizar in resultado_sociodemo.items():\n",
    "    print(f\"El dataframe que analiza {var_a_analizar} tiene {df_a_analizar['conteo'].sum()} \"\n",
    "          f\"conteos de diagnosticos\")"
   ]
  },
  {
   "attachments": {},
   "cell_type": "markdown",
   "metadata": {},
   "source": [
    "- De los diccionarios obtenidos se puede ver que existen diferencias en las cantidades totales\n",
    "de casos. Esto se debe a valores faltantes en cada una de las variables agregadas (ANIO_PRIMERA_EVALUACION,\n",
    "Region, Rango Etario y Sexo)\n",
    "\n",
    "- Esta diferencia solamente existe cuando se eliminan los valores faltantes. Si es que se convierten\n",
    "a str tales valores, o se rellenan los Na (ej: con \"SO\"), entonces se obtiene la misma cantidad de registros."
   ]
  },
  {
   "cell_type": "code",
   "execution_count": 18,
   "metadata": {},
   "outputs": [],
   "source": [
    "with pd.ExcelWriter(\"../data/processed/tableros_powerbi/distribucion_sociodemografica.xlsx\") as file:\n",
    "    for nombre_hoja, df_a_guardar in resultado_sociodemo.items():\n",
    "        df_a_guardar.to_excel(file, sheet_name=nombre_hoja, index=False)"
   ]
  }
 ],
 "metadata": {
  "kernelspec": {
   "display_name": "base",
   "language": "python",
   "name": "python3"
  },
  "language_info": {
   "codemirror_mode": {
    "name": "ipython",
    "version": 3
   },
   "file_extension": ".py",
   "mimetype": "text/x-python",
   "name": "python",
   "nbconvert_exporter": "python",
   "pygments_lexer": "ipython3",
   "version": "3.10.9"
  },
  "orig_nbformat": 4
 },
 "nbformat": 4,
 "nbformat_minor": 2
}
