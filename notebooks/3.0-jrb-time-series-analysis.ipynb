{
 "cells": [
  {
   "cell_type": "code",
   "execution_count": 31,
   "metadata": {},
   "outputs": [
    {
     "name": "stdout",
     "output_type": "stream",
     "text": [
      "The autoreload extension is already loaded. To reload it, use:\n",
      "  %reload_ext autoreload\n"
     ]
    }
   ],
   "source": [
    "import sys\n",
    "import os\n",
    "\n",
    "project_root = os.path.abspath('..')\n",
    "if project_root not in sys.path:\n",
    "    sys.path.append(project_root)\n",
    "\n",
    "%load_ext autoreload\n",
    "%autoreload 2"
   ]
  },
  {
   "cell_type": "code",
   "execution_count": 32,
   "metadata": {},
   "outputs": [],
   "source": [
    "import pandas as pd\n",
    "import numpy as np\n",
    "import polars as pl\n",
    "\n",
    "import matplotlib.pyplot as plt\n",
    "import seaborn as sns\n",
    "\n",
    "import warnings\n",
    "\n",
    "from src.features import build_features\n",
    "\n",
    "warnings.filterwarnings(\"ignore\")\n",
    "sns.set_style()\n",
    "plt.rcParams[\"figure.figsize\"] = (12, 6)\n"
   ]
  },
  {
   "cell_type": "code",
   "execution_count": 125,
   "metadata": {},
   "outputs": [],
   "source": [
    "COLS_DIAGS = [\"Capítulo\", \"Sección\", \"Categoría\", \"Descripción\"]"
   ]
  },
  {
   "cell_type": "code",
   "execution_count": 126,
   "metadata": {},
   "outputs": [],
   "source": [
    "df_procesada = pd.read_csv(\"../data/interim/datos_limpios.csv\", encoding=\"latin-1\", sep=\";\")\n",
    "df_procesada[\"FECHA 1º evaluación\"] = pd.to_datetime(\n",
    "    df_procesada[\"FECHA 1º evaluación\"], format=\"%Y-%m-%d\"\n",
    ")\n",
    "df_procesada[\"F NAC\"] = pd.to_datetime(df_procesada[\"F NAC\"], yearfirst=True)\n"
   ]
  },
  {
   "attachments": {},
   "cell_type": "markdown",
   "metadata": {},
   "source": [
    "# Analisis para Congenitas\n",
    "\n",
    "En este analisis se quieren responder obtener los siguientes insights:\n",
    "\n",
    "- Frecuencia de diagnosticos por anio\n",
    "- Frecuencia de edad de primera consulta por anio\n",
    "- Frecuencia de procedencia por anio\n",
    "- Frecuencia de sexo por anio\n",
    "- Frecuencia de grupo etario por anio"
   ]
  },
  {
   "attachments": {},
   "cell_type": "markdown",
   "metadata": {},
   "source": [
    "## Frecuencia de diagnosticos por anio"
   ]
  },
  {
   "cell_type": "code",
   "execution_count": 127,
   "metadata": {},
   "outputs": [],
   "source": [
    "egresos_por_anio = (\n",
    "    df_procesada.groupby([\"ANIO_PRIMERA_EVALUACION\", \"MES_PRIMERA_EVALUACION\"])[\n",
    "        \"DIAGNOSTICO PRINCIPAL\", \"validacion\"\n",
    "    ]\n",
    "    .value_counts()\n",
    "    .reset_index(name=\"conteo\")\n",
    ")"
   ]
  },
  {
   "attachments": {},
   "cell_type": "markdown",
   "metadata": {},
   "source": [
    "## Frecuencia de edad de primera consulta por anio"
   ]
  },
  {
   "cell_type": "code",
   "execution_count": 132,
   "metadata": {},
   "outputs": [],
   "source": [
    "edad_primera_consulta = (\n",
    "    df_procesada[\"FECHA 1º evaluación\"] - df_procesada[\"F NAC\"]\n",
    ") / np.timedelta64(1, \"Y\")\n",
    "\n",
    "df_procesada[\"EDAD_PRIMERA_CONSULTA\"] = edad_primera_consulta\n",
    "edades_validas = df_procesada.query(\"EDAD_PRIMERA_CONSULTA >= 0\")\n",
    "edades_validas[\"RANGO_ETARIO_PRIMERA_CONSULTA\"] = pd.cut(\n",
    "    edades_validas[\"EDAD_PRIMERA_CONSULTA\"], [0, 15, 20, 25, 40, np.inf]\n",
    ")\n",
    "\n",
    "\n",
    "edades_por_diags_por_anio = (\n",
    "    edades_validas.groupby(\n",
    "        [\"ANIO_PRIMERA_EVALUACION\", \"RANGO_ETARIO_PRIMERA_CONSULTA\"]\n",
    "    )[\"validacion\"]\n",
    "    .value_counts()\n",
    "    .reset_index(name=\"conteo\")\n",
    ")"
   ]
  },
  {
   "cell_type": "code",
   "execution_count": null,
   "metadata": {},
   "outputs": [],
   "source": []
  }
 ],
 "metadata": {
  "kernelspec": {
   "display_name": "base",
   "language": "python",
   "name": "python3"
  },
  "language_info": {
   "codemirror_mode": {
    "name": "ipython",
    "version": 3
   },
   "file_extension": ".py",
   "mimetype": "text/x-python",
   "name": "python",
   "nbconvert_exporter": "python",
   "pygments_lexer": "ipython3",
   "version": "3.10.9"
  },
  "orig_nbformat": 4
 },
 "nbformat": 4,
 "nbformat_minor": 2
}
