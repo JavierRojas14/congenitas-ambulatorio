{
 "cells": [
  {
   "cell_type": "code",
   "execution_count": 8,
   "metadata": {},
   "outputs": [
    {
     "name": "stdout",
     "output_type": "stream",
     "text": [
      "The autoreload extension is already loaded. To reload it, use:\n",
      "  %reload_ext autoreload\n"
     ]
    }
   ],
   "source": [
    "import sys\n",
    "import os\n",
    "\n",
    "project_root = os.path.abspath('..')\n",
    "if project_root not in sys.path:\n",
    "    sys.path.append(project_root)\n",
    " \n",
    "%load_ext autoreload\n",
    "%autoreload 2"
   ]
  },
  {
   "cell_type": "code",
   "execution_count": 9,
   "metadata": {},
   "outputs": [],
   "source": [
    "import pandas as pd\n",
    "import numpy as np\n",
    "\n",
    "import matplotlib.pyplot as plt\n",
    "import seaborn as sns\n",
    "\n",
    "import src.data.make_dataset as mkd\n",
    "\n",
    "sns.set_theme(palette='pastel')\n",
    "plt.rcParams['figure.figsize'] = (12, 6)\n",
    "pd.set_option('display.max_columns', None)"
   ]
  },
  {
   "cell_type": "code",
   "execution_count": 14,
   "metadata": {},
   "outputs": [],
   "source": [
    "df = pd.read_excel(\"../data/raw/BASE DATOS CON CIE-10_Actualizada 25-07-2023.xls\")"
   ]
  },
  {
   "cell_type": "code",
   "execution_count": 42,
   "metadata": {},
   "outputs": [],
   "source": [
    "df_limpia = df.dropna(how=\"all\", axis=1)\n",
    "df_limpia = df_limpia.dropna(how=\"all\", axis=0)\n",
    "\n",
    "df_limpia = mkd.clean_column_names(df_limpia)\n",
    "\n",
    "# Columnas que son fechas y texto\n",
    "COLUMNAS_FECHAS = [\"f_nac\", \"fecha_1_evaluacion\"]\n",
    "COLUMNAS_TEXTO = [\"sexo\", \"diagnostico_principal\", \"clasificacion\", \"complejidad\", \"prevision\"]\n",
    "\n",
    "# Columnas totales a seleccionar\n",
    "COLUMNAS_TOTALES = COLUMNAS_FECHAS + COLUMNAS_TEXTO\n",
    "\n",
    "# Seleccionamos las columnas\n",
    "df_limpia = df_limpia[COLUMNAS_TOTALES]"
   ]
  },
  {
   "cell_type": "code",
   "execution_count": 49,
   "metadata": {},
   "outputs": [],
   "source": [
    "# Limpiamos las columnas de texto\n",
    "df_limpia[COLUMNAS_TEXTO] = df_limpia[COLUMNAS_TEXTO].apply(mkd.limpiar_columna_texto)\n",
    "\n",
    "\n",
    "def formatear_fecha_primera_evaluacion(serie_fecha):\n",
    "    # Creamos una copia de la serie\n",
    "    serie_fecha = serie_fecha.copy()\n",
    "\n",
    "    # Limpiamos la columna, reemplazando fechas y luego casteandolas\n",
    "    serie_fecha = serie_fecha.replace(mkd.TRANSFORMACION_FECHAS_PRIMERA_CONSULTA)\n",
    "    serie_fecha = pd.to_datetime(serie_fecha)\n",
    "\n",
    "    return serie_fecha\n",
    "\n",
    "\n",
    "def formatear_fecha_nacimiento(serie_fecha):\n",
    "    # Creamos una copia de la serie\n",
    "    serie_fecha = serie_fecha.copy()\n",
    "\n",
    "    # Limpiamos la columna, reemplazando fechas y luego casteandolas\n",
    "    serie_fecha = serie_fecha.replace(mkd.TRANSFORMACION_FECHAS_NACIMIENTO)\n",
    "    serie_fecha = pd.to_datetime(serie_fecha, yearfirst=True)\n",
    "\n",
    "    return serie_fecha\n",
    "\n",
    "\n",
    "# Formatea columna de primera evaluacion\n",
    "df_limpia[\"fecha_1_evaluacion\"] = formatear_fecha_primera_evaluacion(\n",
    "    df_limpia[\"fecha_1_evaluacion\"]\n",
    ")\n",
    "\n",
    "# Formatea columna de fecha de nacimiento\n",
    "df_limpia[\"f_nac\"] = formatear_fecha_nacimiento(df_limpia[\"f_nac\"])"
   ]
  },
  {
   "cell_type": "code",
   "execution_count": 50,
   "metadata": {},
   "outputs": [
    {
     "data": {
      "text/plain": [
       "0      1986-10-16\n",
       "1      1982-06-26\n",
       "2      1993-03-05\n",
       "3      1992-09-15\n",
       "4      1978-04-29\n",
       "          ...    \n",
       "3581   1998-04-17\n",
       "3582   1984-04-09\n",
       "3583          NaT\n",
       "3585          NaT\n",
       "3595          NaT\n",
       "Name: f_nac, Length: 3586, dtype: datetime64[ns]"
      ]
     },
     "execution_count": 50,
     "metadata": {},
     "output_type": "execute_result"
    }
   ],
   "source": [
    "df_limpia[\"f_nac\"]"
   ]
  },
  {
   "cell_type": "code",
   "execution_count": null,
   "metadata": {},
   "outputs": [],
   "source": []
  }
 ],
 "metadata": {
  "kernelspec": {
   "display_name": "int-congenitas",
   "language": "python",
   "name": "python3"
  },
  "language_info": {
   "codemirror_mode": {
    "name": "ipython",
    "version": 3
   },
   "file_extension": ".py",
   "mimetype": "text/x-python",
   "name": "python",
   "nbconvert_exporter": "python",
   "pygments_lexer": "ipython3",
   "version": "3.8.20"
  }
 },
 "nbformat": 4,
 "nbformat_minor": 2
}
