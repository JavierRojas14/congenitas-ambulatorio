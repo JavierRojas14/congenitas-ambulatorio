{
 "cells": [
  {
   "attachments": {},
   "cell_type": "markdown",
   "metadata": {},
   "source": [
    "# Agrupar glosas de diagnosticos similares"
   ]
  },
  {
   "attachments": {},
   "cell_type": "markdown",
   "metadata": {},
   "source": [
    "- En este notebook se quiere agrupar la glosa de diagnosticos luego de haberlos preprocesados\n",
    "(segun la funcion que esta en src/data/build_model.py). Esto, ya que existe redundancia en las glosas\n",
    "(Por ejemplo: 4 glosas distintas para la Tetralogia de Fallot).\n",
    "\n",
    "- Para esto se utilizara K-Means, y se iterara en la cantidad de clusters a generar. Esta informacion\n",
    "se podria obtener del equipo de Patologias Congenitas."
   ]
  },
  {
   "cell_type": "code",
   "execution_count": 1,
   "metadata": {},
   "outputs": [],
   "source": [
    "import sys\n",
    "import os\n",
    "\n",
    "project_root = os.path.abspath('..')\n",
    "if project_root not in sys.path:\n",
    "    sys.path.append(project_root)\n",
    "\n",
    "%load_ext autoreload\n",
    "%autoreload 2"
   ]
  },
  {
   "cell_type": "code",
   "execution_count": 5,
   "metadata": {},
   "outputs": [],
   "source": [
    "COLS_A_PREPROCESAR_TEXTO = os.environ.get(\"COLS_A_PREPROCESAR_TEXTO\").split(\",\")\n",
    "COLS_INFO_SENSIBLE = os.environ.get(\"COLS_INFO_SENSIBLE\").split(\",\")\n"
   ]
  },
  {
   "cell_type": "code",
   "execution_count": 16,
   "metadata": {},
   "outputs": [],
   "source": [
    "import pandas as pd\n",
    "\n",
    "from sklearn.cluster import KMeans\n",
    "from src.features import build_features\n"
   ]
  },
  {
   "cell_type": "code",
   "execution_count": 17,
   "metadata": {},
   "outputs": [],
   "source": [
    "df_procesada = pd.read_csv(\"../data/interim/datos_limpios.csv\", encoding=\"latin-1\", sep=\";\")"
   ]
  },
  {
   "cell_type": "code",
   "execution_count": 22,
   "metadata": {},
   "outputs": [],
   "source": [
    "resultados = {}\n",
    "for columna in COLS_A_PREPROCESAR_TEXTO:\n",
    "    valores_unicos = df_procesada[columna].dropna().unique().astype(str)\n",
    "    vectorizador, matriz_sparse = build_features.crear_matriz_sparse_para_texto(valores_unicos)\n",
    "\n",
    "    cantidad_de_grupos = int(round(valores_unicos.shape[0] / 2, 0))\n",
    "\n",
    "    modelo = KMeans(n_clusters=cantidad_de_grupos, n_init=\"auto\", random_state=1)\n",
    "    modelo.fit(matriz_sparse)\n",
    "    clasificacion = clasificacion_diagnosticos = pd.DataFrame(\n",
    "        {columna: valores_unicos, \"cluster\": modelo.labels_}\n",
    "    ).sort_values(\"cluster\")\n",
    "\n",
    "    resultados[columna] = clasificacion"
   ]
  },
  {
   "cell_type": "code",
   "execution_count": 23,
   "metadata": {},
   "outputs": [],
   "source": [
    "with pd.ExcelWriter(\"../data/processed/agrupacion_columnas.xlsx\") as file:\n",
    "    for nombre_col, df_agrupada in resultados.items():\n",
    "        df_agrupada.to_excel(file, sheet_name=nombre_col, index=False)"
   ]
  }
 ],
 "metadata": {
  "kernelspec": {
   "display_name": "base",
   "language": "python",
   "name": "python3"
  },
  "language_info": {
   "codemirror_mode": {
    "name": "ipython",
    "version": 3
   },
   "file_extension": ".py",
   "mimetype": "text/x-python",
   "name": "python",
   "nbconvert_exporter": "python",
   "pygments_lexer": "ipython3",
   "version": "3.10.9"
  },
  "orig_nbformat": 4
 },
 "nbformat": 4,
 "nbformat_minor": 2
}
