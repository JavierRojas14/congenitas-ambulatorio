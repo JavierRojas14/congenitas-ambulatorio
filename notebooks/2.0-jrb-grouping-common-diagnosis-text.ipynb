{
 "cells": [
  {
   "attachments": {},
   "cell_type": "markdown",
   "metadata": {},
   "source": [
    "# Agrupar glosas de diagnosticos similares"
   ]
  },
  {
   "attachments": {},
   "cell_type": "markdown",
   "metadata": {},
   "source": [
    "- En este notebook se quiere agrupar la glosa de diagnosticos luego de haberlos preprocesados\n",
    "(segun la funcion que esta en src/data/build_model.py). Esto, ya que existe redundancia en las glosas\n",
    "(Por ejemplo: 4 glosas distintas para la Tetralogia de Fallot).\n",
    "\n",
    "- Para esto se utilizara K-Means, y se iterara en la cantidad de clusters a generar. Esta informacion\n",
    "se podria obtener del equipo de Patologias Congenitas."
   ]
  },
  {
   "attachments": {},
   "cell_type": "markdown",
   "metadata": {},
   "source": []
  }
 ],
 "metadata": {
  "language_info": {
   "name": "python"
  },
  "orig_nbformat": 4
 },
 "nbformat": 4,
 "nbformat_minor": 2
}
